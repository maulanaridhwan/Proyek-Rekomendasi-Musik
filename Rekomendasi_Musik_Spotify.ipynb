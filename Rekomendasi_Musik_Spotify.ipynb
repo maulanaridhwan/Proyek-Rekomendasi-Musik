{
  "nbformat": 4,
  "nbformat_minor": 0,
  "metadata": {
    "colab": {
      "provenance": []
    },
    "kernelspec": {
      "name": "python3",
      "display_name": "Python 3"
    },
    "language_info": {
      "name": "python"
    }
  },
  "cells": [
    {
      "cell_type": "markdown",
      "source": [
        "# Rekomendasi Musik Spotify: Content-Based Filtering\n",
        "**Dataset:**\n",
        "### Top 10000 Songs on Spotify 1950-Present\n",
        "The best and biggest songs from ARIA & Billboard charts spanning 7 decades.\n",
        "https://www.kaggle.com/datasets/joebeachcapital/top-10000-spotify-songs-1960-now/data"
      ],
      "metadata": {
        "id": "9UgRMwsMh0Ab"
      }
    },
    {
      "cell_type": "markdown",
      "source": [
        "## Import Library"
      ],
      "metadata": {
        "id": "Tkc5jXQ3jXiM"
      }
    },
    {
      "cell_type": "code",
      "source": [
        "import pandas as pd\n",
        "import numpy as np\n",
        "from sklearn.preprocessing import MinMaxScaler\n",
        "from sklearn.metrics.pairwise import cosine_similarity\n",
        "from sklearn.feature_extraction.text import TfidfVectorizer\n",
        "from scipy.sparse import hstack, csr_matrix\n",
        "import random\n",
        "import math"
      ],
      "metadata": {
        "id": "YcYnErn2fdPO"
      },
      "execution_count": 1,
      "outputs": []
    },
    {
      "cell_type": "markdown",
      "source": [
        "## Load Dataset"
      ],
      "metadata": {
        "id": "WCmB2j4Mja7d"
      }
    },
    {
      "cell_type": "code",
      "execution_count": 2,
      "metadata": {
        "colab": {
          "base_uri": "https://localhost:8080/",
          "height": 689
        },
        "id": "A0nLeOyjY0tA",
        "outputId": "f1ec2b95-4edf-48b6-e5c9-6e89a39dd0e1"
      },
      "outputs": [
        {
          "output_type": "execute_result",
          "data": {
            "text/plain": [
              "                              Track URI                           Track Name  \\\n",
              "0  spotify:track:0vNPJrUrBnMFdCs8b2MTNG                                Fader   \n",
              "1  spotify:track:0NpvdCO506uO58D4AbKzki                               Sherry   \n",
              "2  spotify:track:1MtUq6Wp1eQ8PC6BbPCj8P  I Took A Pill In Ibiza - Seeb Remix   \n",
              "3  spotify:track:59lq75uFIqzUZcgZ4CbqFG                   Let Go for Tonight   \n",
              "4  spotify:track:7KdcZQ3GJeGdserhK61kfv          The Way I Want To Touch You   \n",
              "\n",
              "                                       Artist URI(s)  \\\n",
              "0              spotify:artist:4W48hZAnAHVOC2c8WH8pcq   \n",
              "1              spotify:artist:6mcrZQmgzFGRWf7C0SObou   \n",
              "2  spotify:artist:2KsP6tYLJlTBvSUxnwlVWa, spotify...   \n",
              "3              spotify:artist:7qRll6DYV06u2VuRPAVqug   \n",
              "4              spotify:artist:7BEfMxbaqx6dOpbtlEqScm   \n",
              "\n",
              "                     Artist Name(s)                             Album URI  \\\n",
              "0                   The Temper Trap  spotify:album:0V59MMtgoruvEqMv18KAOH   \n",
              "1  Frankie Valli & The Four Seasons  spotify:album:0NUEQILaBzavnzcMEs4buZ   \n",
              "2                 Mike Posner, Seeb  spotify:album:1Tz3Ai1guEFf4hV3d9i17K   \n",
              "3                             Foxes  spotify:album:5AQ7uKRSpAv7SNUl4j24ru   \n",
              "4                Captain & Tennille  spotify:album:3GUxesVyOehInaxJyCTh6d   \n",
              "\n",
              "                                       Album Name  \\\n",
              "0                       Conditions (Tour Edition)   \n",
              "1  The Very Best of Frankie Valli & The 4 Seasons   \n",
              "2                                At Night, Alone.   \n",
              "3                               Glorious (Deluxe)   \n",
              "4                      Love Will Keep Us Together   \n",
              "\n",
              "                     Album Artist URI(s)              Album Artist Name(s)  \\\n",
              "0  spotify:artist:4W48hZAnAHVOC2c8WH8pcq                   The Temper Trap   \n",
              "1  spotify:artist:6mcrZQmgzFGRWf7C0SObou  Frankie Valli & The Four Seasons   \n",
              "2  spotify:artist:2KsP6tYLJlTBvSUxnwlVWa                       Mike Posner   \n",
              "3  spotify:artist:7qRll6DYV06u2VuRPAVqug                             Foxes   \n",
              "4  spotify:artist:7BEfMxbaqx6dOpbtlEqScm                Captain & Tennille   \n",
              "\n",
              "  Album Release Date                                    Album Image URL  ...  \\\n",
              "0               2009  https://i.scdn.co/image/ab67616d0000b273f86ae8...  ...   \n",
              "1         2003-01-14  https://i.scdn.co/image/ab67616d0000b273b96c21...  ...   \n",
              "2         2016-05-06  https://i.scdn.co/image/ab67616d0000b273a19be7...  ...   \n",
              "3         2014-05-12  https://i.scdn.co/image/ab67616d0000b273ae5c7d...  ...   \n",
              "4         1975-01-01  https://i.scdn.co/image/ab67616d0000b273e21a28...  ...   \n",
              "\n",
              "   Speechiness  Acousticness  Instrumentalness Liveness  Valence    Tempo  \\\n",
              "0       0.0353      0.000101          0.690000   0.0752    0.158  134.974   \n",
              "1       0.0441      0.626000          0.000000   0.1130    0.734  117.562   \n",
              "2       0.1110      0.035300          0.000008   0.0843    0.710  101.969   \n",
              "3       0.0632      0.042900          0.000002   0.3260    0.299  140.064   \n",
              "4       0.0248      0.624000          0.000112   0.3430    0.597  111.290   \n",
              "\n",
              "  Time Signature Album Genres                           Label  \\\n",
              "0            4.0          NaN              Liberation Records   \n",
              "1            4.0          NaN                           Rhino   \n",
              "2            4.0          NaN  Monster Mountain, LLC / Island   \n",
              "3            4.0          NaN       Sign Of The Times Records   \n",
              "4            4.0          NaN                             A&M   \n",
              "\n",
              "                                          Copyrights  \n",
              "0   C 2010 Liberation Music, P 2010 Liberation Music  \n",
              "1  C © 2004 Bob Gaudio & Frankie Valli d/b/a The ...  \n",
              "2  C © 2016 Island Records, a division of UMG Rec...  \n",
              "3  P (P) 2014 Sign Of The Times Limited under exc...  \n",
              "4  C © 1975 A&M Records, P This Compilation ℗ 197...  \n",
              "\n",
              "[5 rows x 35 columns]"
            ],
            "text/html": [
              "\n",
              "  <div id=\"df-6f3c2212-8af1-4b8d-b6cc-277e6fcdc4d4\" class=\"colab-df-container\">\n",
              "    <div>\n",
              "<style scoped>\n",
              "    .dataframe tbody tr th:only-of-type {\n",
              "        vertical-align: middle;\n",
              "    }\n",
              "\n",
              "    .dataframe tbody tr th {\n",
              "        vertical-align: top;\n",
              "    }\n",
              "\n",
              "    .dataframe thead th {\n",
              "        text-align: right;\n",
              "    }\n",
              "</style>\n",
              "<table border=\"1\" class=\"dataframe\">\n",
              "  <thead>\n",
              "    <tr style=\"text-align: right;\">\n",
              "      <th></th>\n",
              "      <th>Track URI</th>\n",
              "      <th>Track Name</th>\n",
              "      <th>Artist URI(s)</th>\n",
              "      <th>Artist Name(s)</th>\n",
              "      <th>Album URI</th>\n",
              "      <th>Album Name</th>\n",
              "      <th>Album Artist URI(s)</th>\n",
              "      <th>Album Artist Name(s)</th>\n",
              "      <th>Album Release Date</th>\n",
              "      <th>Album Image URL</th>\n",
              "      <th>...</th>\n",
              "      <th>Speechiness</th>\n",
              "      <th>Acousticness</th>\n",
              "      <th>Instrumentalness</th>\n",
              "      <th>Liveness</th>\n",
              "      <th>Valence</th>\n",
              "      <th>Tempo</th>\n",
              "      <th>Time Signature</th>\n",
              "      <th>Album Genres</th>\n",
              "      <th>Label</th>\n",
              "      <th>Copyrights</th>\n",
              "    </tr>\n",
              "  </thead>\n",
              "  <tbody>\n",
              "    <tr>\n",
              "      <th>0</th>\n",
              "      <td>spotify:track:0vNPJrUrBnMFdCs8b2MTNG</td>\n",
              "      <td>Fader</td>\n",
              "      <td>spotify:artist:4W48hZAnAHVOC2c8WH8pcq</td>\n",
              "      <td>The Temper Trap</td>\n",
              "      <td>spotify:album:0V59MMtgoruvEqMv18KAOH</td>\n",
              "      <td>Conditions (Tour Edition)</td>\n",
              "      <td>spotify:artist:4W48hZAnAHVOC2c8WH8pcq</td>\n",
              "      <td>The Temper Trap</td>\n",
              "      <td>2009</td>\n",
              "      <td>https://i.scdn.co/image/ab67616d0000b273f86ae8...</td>\n",
              "      <td>...</td>\n",
              "      <td>0.0353</td>\n",
              "      <td>0.000101</td>\n",
              "      <td>0.690000</td>\n",
              "      <td>0.0752</td>\n",
              "      <td>0.158</td>\n",
              "      <td>134.974</td>\n",
              "      <td>4.0</td>\n",
              "      <td>NaN</td>\n",
              "      <td>Liberation Records</td>\n",
              "      <td>C 2010 Liberation Music, P 2010 Liberation Music</td>\n",
              "    </tr>\n",
              "    <tr>\n",
              "      <th>1</th>\n",
              "      <td>spotify:track:0NpvdCO506uO58D4AbKzki</td>\n",
              "      <td>Sherry</td>\n",
              "      <td>spotify:artist:6mcrZQmgzFGRWf7C0SObou</td>\n",
              "      <td>Frankie Valli &amp; The Four Seasons</td>\n",
              "      <td>spotify:album:0NUEQILaBzavnzcMEs4buZ</td>\n",
              "      <td>The Very Best of Frankie Valli &amp; The 4 Seasons</td>\n",
              "      <td>spotify:artist:6mcrZQmgzFGRWf7C0SObou</td>\n",
              "      <td>Frankie Valli &amp; The Four Seasons</td>\n",
              "      <td>2003-01-14</td>\n",
              "      <td>https://i.scdn.co/image/ab67616d0000b273b96c21...</td>\n",
              "      <td>...</td>\n",
              "      <td>0.0441</td>\n",
              "      <td>0.626000</td>\n",
              "      <td>0.000000</td>\n",
              "      <td>0.1130</td>\n",
              "      <td>0.734</td>\n",
              "      <td>117.562</td>\n",
              "      <td>4.0</td>\n",
              "      <td>NaN</td>\n",
              "      <td>Rhino</td>\n",
              "      <td>C © 2004 Bob Gaudio &amp; Frankie Valli d/b/a The ...</td>\n",
              "    </tr>\n",
              "    <tr>\n",
              "      <th>2</th>\n",
              "      <td>spotify:track:1MtUq6Wp1eQ8PC6BbPCj8P</td>\n",
              "      <td>I Took A Pill In Ibiza - Seeb Remix</td>\n",
              "      <td>spotify:artist:2KsP6tYLJlTBvSUxnwlVWa, spotify...</td>\n",
              "      <td>Mike Posner, Seeb</td>\n",
              "      <td>spotify:album:1Tz3Ai1guEFf4hV3d9i17K</td>\n",
              "      <td>At Night, Alone.</td>\n",
              "      <td>spotify:artist:2KsP6tYLJlTBvSUxnwlVWa</td>\n",
              "      <td>Mike Posner</td>\n",
              "      <td>2016-05-06</td>\n",
              "      <td>https://i.scdn.co/image/ab67616d0000b273a19be7...</td>\n",
              "      <td>...</td>\n",
              "      <td>0.1110</td>\n",
              "      <td>0.035300</td>\n",
              "      <td>0.000008</td>\n",
              "      <td>0.0843</td>\n",
              "      <td>0.710</td>\n",
              "      <td>101.969</td>\n",
              "      <td>4.0</td>\n",
              "      <td>NaN</td>\n",
              "      <td>Monster Mountain, LLC / Island</td>\n",
              "      <td>C © 2016 Island Records, a division of UMG Rec...</td>\n",
              "    </tr>\n",
              "    <tr>\n",
              "      <th>3</th>\n",
              "      <td>spotify:track:59lq75uFIqzUZcgZ4CbqFG</td>\n",
              "      <td>Let Go for Tonight</td>\n",
              "      <td>spotify:artist:7qRll6DYV06u2VuRPAVqug</td>\n",
              "      <td>Foxes</td>\n",
              "      <td>spotify:album:5AQ7uKRSpAv7SNUl4j24ru</td>\n",
              "      <td>Glorious (Deluxe)</td>\n",
              "      <td>spotify:artist:7qRll6DYV06u2VuRPAVqug</td>\n",
              "      <td>Foxes</td>\n",
              "      <td>2014-05-12</td>\n",
              "      <td>https://i.scdn.co/image/ab67616d0000b273ae5c7d...</td>\n",
              "      <td>...</td>\n",
              "      <td>0.0632</td>\n",
              "      <td>0.042900</td>\n",
              "      <td>0.000002</td>\n",
              "      <td>0.3260</td>\n",
              "      <td>0.299</td>\n",
              "      <td>140.064</td>\n",
              "      <td>4.0</td>\n",
              "      <td>NaN</td>\n",
              "      <td>Sign Of The Times Records</td>\n",
              "      <td>P (P) 2014 Sign Of The Times Limited under exc...</td>\n",
              "    </tr>\n",
              "    <tr>\n",
              "      <th>4</th>\n",
              "      <td>spotify:track:7KdcZQ3GJeGdserhK61kfv</td>\n",
              "      <td>The Way I Want To Touch You</td>\n",
              "      <td>spotify:artist:7BEfMxbaqx6dOpbtlEqScm</td>\n",
              "      <td>Captain &amp; Tennille</td>\n",
              "      <td>spotify:album:3GUxesVyOehInaxJyCTh6d</td>\n",
              "      <td>Love Will Keep Us Together</td>\n",
              "      <td>spotify:artist:7BEfMxbaqx6dOpbtlEqScm</td>\n",
              "      <td>Captain &amp; Tennille</td>\n",
              "      <td>1975-01-01</td>\n",
              "      <td>https://i.scdn.co/image/ab67616d0000b273e21a28...</td>\n",
              "      <td>...</td>\n",
              "      <td>0.0248</td>\n",
              "      <td>0.624000</td>\n",
              "      <td>0.000112</td>\n",
              "      <td>0.3430</td>\n",
              "      <td>0.597</td>\n",
              "      <td>111.290</td>\n",
              "      <td>4.0</td>\n",
              "      <td>NaN</td>\n",
              "      <td>A&amp;M</td>\n",
              "      <td>C © 1975 A&amp;M Records, P This Compilation ℗ 197...</td>\n",
              "    </tr>\n",
              "  </tbody>\n",
              "</table>\n",
              "<p>5 rows × 35 columns</p>\n",
              "</div>\n",
              "    <div class=\"colab-df-buttons\">\n",
              "\n",
              "  <div class=\"colab-df-container\">\n",
              "    <button class=\"colab-df-convert\" onclick=\"convertToInteractive('df-6f3c2212-8af1-4b8d-b6cc-277e6fcdc4d4')\"\n",
              "            title=\"Convert this dataframe to an interactive table.\"\n",
              "            style=\"display:none;\">\n",
              "\n",
              "  <svg xmlns=\"http://www.w3.org/2000/svg\" height=\"24px\" viewBox=\"0 -960 960 960\">\n",
              "    <path d=\"M120-120v-720h720v720H120Zm60-500h600v-160H180v160Zm220 220h160v-160H400v160Zm0 220h160v-160H400v160ZM180-400h160v-160H180v160Zm440 0h160v-160H620v160ZM180-180h160v-160H180v160Zm440 0h160v-160H620v160Z\"/>\n",
              "  </svg>\n",
              "    </button>\n",
              "\n",
              "  <style>\n",
              "    .colab-df-container {\n",
              "      display:flex;\n",
              "      gap: 12px;\n",
              "    }\n",
              "\n",
              "    .colab-df-convert {\n",
              "      background-color: #E8F0FE;\n",
              "      border: none;\n",
              "      border-radius: 50%;\n",
              "      cursor: pointer;\n",
              "      display: none;\n",
              "      fill: #1967D2;\n",
              "      height: 32px;\n",
              "      padding: 0 0 0 0;\n",
              "      width: 32px;\n",
              "    }\n",
              "\n",
              "    .colab-df-convert:hover {\n",
              "      background-color: #E2EBFA;\n",
              "      box-shadow: 0px 1px 2px rgba(60, 64, 67, 0.3), 0px 1px 3px 1px rgba(60, 64, 67, 0.15);\n",
              "      fill: #174EA6;\n",
              "    }\n",
              "\n",
              "    .colab-df-buttons div {\n",
              "      margin-bottom: 4px;\n",
              "    }\n",
              "\n",
              "    [theme=dark] .colab-df-convert {\n",
              "      background-color: #3B4455;\n",
              "      fill: #D2E3FC;\n",
              "    }\n",
              "\n",
              "    [theme=dark] .colab-df-convert:hover {\n",
              "      background-color: #434B5C;\n",
              "      box-shadow: 0px 1px 3px 1px rgba(0, 0, 0, 0.15);\n",
              "      filter: drop-shadow(0px 1px 2px rgba(0, 0, 0, 0.3));\n",
              "      fill: #FFFFFF;\n",
              "    }\n",
              "  </style>\n",
              "\n",
              "    <script>\n",
              "      const buttonEl =\n",
              "        document.querySelector('#df-6f3c2212-8af1-4b8d-b6cc-277e6fcdc4d4 button.colab-df-convert');\n",
              "      buttonEl.style.display =\n",
              "        google.colab.kernel.accessAllowed ? 'block' : 'none';\n",
              "\n",
              "      async function convertToInteractive(key) {\n",
              "        const element = document.querySelector('#df-6f3c2212-8af1-4b8d-b6cc-277e6fcdc4d4');\n",
              "        const dataTable =\n",
              "          await google.colab.kernel.invokeFunction('convertToInteractive',\n",
              "                                                    [key], {});\n",
              "        if (!dataTable) return;\n",
              "\n",
              "        const docLinkHtml = 'Like what you see? Visit the ' +\n",
              "          '<a target=\"_blank\" href=https://colab.research.google.com/notebooks/data_table.ipynb>data table notebook</a>'\n",
              "          + ' to learn more about interactive tables.';\n",
              "        element.innerHTML = '';\n",
              "        dataTable['output_type'] = 'display_data';\n",
              "        await google.colab.output.renderOutput(dataTable, element);\n",
              "        const docLink = document.createElement('div');\n",
              "        docLink.innerHTML = docLinkHtml;\n",
              "        element.appendChild(docLink);\n",
              "      }\n",
              "    </script>\n",
              "  </div>\n",
              "\n",
              "\n",
              "    <div id=\"df-255a657d-f668-4ca6-8808-55b011f6a467\">\n",
              "      <button class=\"colab-df-quickchart\" onclick=\"quickchart('df-255a657d-f668-4ca6-8808-55b011f6a467')\"\n",
              "                title=\"Suggest charts\"\n",
              "                style=\"display:none;\">\n",
              "\n",
              "<svg xmlns=\"http://www.w3.org/2000/svg\" height=\"24px\"viewBox=\"0 0 24 24\"\n",
              "     width=\"24px\">\n",
              "    <g>\n",
              "        <path d=\"M19 3H5c-1.1 0-2 .9-2 2v14c0 1.1.9 2 2 2h14c1.1 0 2-.9 2-2V5c0-1.1-.9-2-2-2zM9 17H7v-7h2v7zm4 0h-2V7h2v10zm4 0h-2v-4h2v4z\"/>\n",
              "    </g>\n",
              "</svg>\n",
              "      </button>\n",
              "\n",
              "<style>\n",
              "  .colab-df-quickchart {\n",
              "      --bg-color: #E8F0FE;\n",
              "      --fill-color: #1967D2;\n",
              "      --hover-bg-color: #E2EBFA;\n",
              "      --hover-fill-color: #174EA6;\n",
              "      --disabled-fill-color: #AAA;\n",
              "      --disabled-bg-color: #DDD;\n",
              "  }\n",
              "\n",
              "  [theme=dark] .colab-df-quickchart {\n",
              "      --bg-color: #3B4455;\n",
              "      --fill-color: #D2E3FC;\n",
              "      --hover-bg-color: #434B5C;\n",
              "      --hover-fill-color: #FFFFFF;\n",
              "      --disabled-bg-color: #3B4455;\n",
              "      --disabled-fill-color: #666;\n",
              "  }\n",
              "\n",
              "  .colab-df-quickchart {\n",
              "    background-color: var(--bg-color);\n",
              "    border: none;\n",
              "    border-radius: 50%;\n",
              "    cursor: pointer;\n",
              "    display: none;\n",
              "    fill: var(--fill-color);\n",
              "    height: 32px;\n",
              "    padding: 0;\n",
              "    width: 32px;\n",
              "  }\n",
              "\n",
              "  .colab-df-quickchart:hover {\n",
              "    background-color: var(--hover-bg-color);\n",
              "    box-shadow: 0 1px 2px rgba(60, 64, 67, 0.3), 0 1px 3px 1px rgba(60, 64, 67, 0.15);\n",
              "    fill: var(--button-hover-fill-color);\n",
              "  }\n",
              "\n",
              "  .colab-df-quickchart-complete:disabled,\n",
              "  .colab-df-quickchart-complete:disabled:hover {\n",
              "    background-color: var(--disabled-bg-color);\n",
              "    fill: var(--disabled-fill-color);\n",
              "    box-shadow: none;\n",
              "  }\n",
              "\n",
              "  .colab-df-spinner {\n",
              "    border: 2px solid var(--fill-color);\n",
              "    border-color: transparent;\n",
              "    border-bottom-color: var(--fill-color);\n",
              "    animation:\n",
              "      spin 1s steps(1) infinite;\n",
              "  }\n",
              "\n",
              "  @keyframes spin {\n",
              "    0% {\n",
              "      border-color: transparent;\n",
              "      border-bottom-color: var(--fill-color);\n",
              "      border-left-color: var(--fill-color);\n",
              "    }\n",
              "    20% {\n",
              "      border-color: transparent;\n",
              "      border-left-color: var(--fill-color);\n",
              "      border-top-color: var(--fill-color);\n",
              "    }\n",
              "    30% {\n",
              "      border-color: transparent;\n",
              "      border-left-color: var(--fill-color);\n",
              "      border-top-color: var(--fill-color);\n",
              "      border-right-color: var(--fill-color);\n",
              "    }\n",
              "    40% {\n",
              "      border-color: transparent;\n",
              "      border-right-color: var(--fill-color);\n",
              "      border-top-color: var(--fill-color);\n",
              "    }\n",
              "    60% {\n",
              "      border-color: transparent;\n",
              "      border-right-color: var(--fill-color);\n",
              "    }\n",
              "    80% {\n",
              "      border-color: transparent;\n",
              "      border-right-color: var(--fill-color);\n",
              "      border-bottom-color: var(--fill-color);\n",
              "    }\n",
              "    90% {\n",
              "      border-color: transparent;\n",
              "      border-bottom-color: var(--fill-color);\n",
              "    }\n",
              "  }\n",
              "</style>\n",
              "\n",
              "      <script>\n",
              "        async function quickchart(key) {\n",
              "          const quickchartButtonEl =\n",
              "            document.querySelector('#' + key + ' button');\n",
              "          quickchartButtonEl.disabled = true;  // To prevent multiple clicks.\n",
              "          quickchartButtonEl.classList.add('colab-df-spinner');\n",
              "          try {\n",
              "            const charts = await google.colab.kernel.invokeFunction(\n",
              "                'suggestCharts', [key], {});\n",
              "          } catch (error) {\n",
              "            console.error('Error during call to suggestCharts:', error);\n",
              "          }\n",
              "          quickchartButtonEl.classList.remove('colab-df-spinner');\n",
              "          quickchartButtonEl.classList.add('colab-df-quickchart-complete');\n",
              "        }\n",
              "        (() => {\n",
              "          let quickchartButtonEl =\n",
              "            document.querySelector('#df-255a657d-f668-4ca6-8808-55b011f6a467 button');\n",
              "          quickchartButtonEl.style.display =\n",
              "            google.colab.kernel.accessAllowed ? 'block' : 'none';\n",
              "        })();\n",
              "      </script>\n",
              "    </div>\n",
              "\n",
              "    </div>\n",
              "  </div>\n"
            ],
            "application/vnd.google.colaboratory.intrinsic+json": {
              "type": "dataframe",
              "variable_name": "df"
            }
          },
          "metadata": {},
          "execution_count": 2
        }
      ],
      "source": [
        "file_path = '/content/drive/MyDrive/Colab Notebooks/DBS Coding Camp 2025/MLT/Proyek Kedua/top_10000_1950-now.csv'\n",
        "df = pd.read_csv(file_path)\n",
        "df.head()"
      ]
    },
    {
      "cell_type": "markdown",
      "source": [
        "## Data Understanding & Cleaning"
      ],
      "metadata": {
        "id": "uqgTcWuoNWEB"
      }
    },
    {
      "cell_type": "code",
      "source": [
        "df.info()"
      ],
      "metadata": {
        "colab": {
          "base_uri": "https://localhost:8080/"
        },
        "id": "LjxviC2ofvqQ",
        "outputId": "d23d702a-bd6f-487b-f531-e66d40a8463d"
      },
      "execution_count": 3,
      "outputs": [
        {
          "output_type": "stream",
          "name": "stdout",
          "text": [
            "<class 'pandas.core.frame.DataFrame'>\n",
            "RangeIndex: 10000 entries, 0 to 9999\n",
            "Data columns (total 35 columns):\n",
            " #   Column                Non-Null Count  Dtype  \n",
            "---  ------                --------------  -----  \n",
            " 0   Track URI             10000 non-null  object \n",
            " 1   Track Name            9998 non-null   object \n",
            " 2   Artist URI(s)         9998 non-null   object \n",
            " 3   Artist Name(s)        9998 non-null   object \n",
            " 4   Album URI             9998 non-null   object \n",
            " 5   Album Name            9998 non-null   object \n",
            " 6   Album Artist URI(s)   9998 non-null   object \n",
            " 7   Album Artist Name(s)  9998 non-null   object \n",
            " 8   Album Release Date    9998 non-null   object \n",
            " 9   Album Image URL       9996 non-null   object \n",
            " 10  Disc Number           10000 non-null  int64  \n",
            " 11  Track Number          10000 non-null  int64  \n",
            " 12  Track Duration (ms)   10000 non-null  int64  \n",
            " 13  Track Preview URL     9937 non-null   object \n",
            " 14  Explicit              10000 non-null  bool   \n",
            " 15  Popularity            10000 non-null  int64  \n",
            " 16  ISRC                  9996 non-null   object \n",
            " 17  Added By              10000 non-null  object \n",
            " 18  Added At              10000 non-null  object \n",
            " 19  Artist Genres         9449 non-null   object \n",
            " 20  Danceability          9995 non-null   float64\n",
            " 21  Energy                9995 non-null   float64\n",
            " 22  Key                   9995 non-null   float64\n",
            " 23  Loudness              9995 non-null   float64\n",
            " 24  Mode                  9995 non-null   float64\n",
            " 25  Speechiness           9995 non-null   float64\n",
            " 26  Acousticness          9995 non-null   float64\n",
            " 27  Instrumentalness      9995 non-null   float64\n",
            " 28  Liveness              9995 non-null   float64\n",
            " 29  Valence               9995 non-null   float64\n",
            " 30  Tempo                 9995 non-null   float64\n",
            " 31  Time Signature        9995 non-null   float64\n",
            " 32  Album Genres          0 non-null      float64\n",
            " 33  Label                 9993 non-null   object \n",
            " 34  Copyrights            9977 non-null   object \n",
            "dtypes: bool(1), float64(13), int64(4), object(17)\n",
            "memory usage: 2.6+ MB\n"
          ]
        }
      ]
    },
    {
      "cell_type": "code",
      "source": [
        "df.shape"
      ],
      "metadata": {
        "colab": {
          "base_uri": "https://localhost:8080/"
        },
        "id": "a5jh7I55gPJp",
        "outputId": "7458a295-151b-4216-e96e-a95b023a4780"
      },
      "execution_count": 4,
      "outputs": [
        {
          "output_type": "execute_result",
          "data": {
            "text/plain": [
              "(10000, 35)"
            ]
          },
          "metadata": {},
          "execution_count": 4
        }
      ]
    },
    {
      "cell_type": "markdown",
      "source": [
        "Ukuran dataset adalah (10000, 35). Artinya ada 10.000 lagu dan 35 kolom fitur (metadata + fitur audio)."
      ],
      "metadata": {
        "id": "C5zFgYtErjQr"
      }
    },
    {
      "cell_type": "code",
      "source": [
        "# Kolom fitur audio dan metadata\n",
        "audio_features = ['Danceability', 'Energy', 'Valence', 'Tempo', 'Loudness',\n",
        "                  'Speechiness', 'Acousticness', 'Instrumentalness', 'Liveness']\n",
        "\n",
        "# Drop baris dengan missing pada fitur audio, Artist Name(s), Track Name, Artist Genres\n",
        "df = df.dropna(subset=audio_features + ['Artist Name(s)', 'Track Name', 'Artist Genres']).reset_index(drop=True)"
      ],
      "metadata": {
        "id": "9VTmrqL5GHW6"
      },
      "execution_count": 5,
      "outputs": []
    },
    {
      "cell_type": "code",
      "source": [
        "df.info()"
      ],
      "metadata": {
        "colab": {
          "base_uri": "https://localhost:8080/"
        },
        "id": "pW214cfHXVCx",
        "outputId": "b978a6de-45cb-4194-b3f5-bbb04863324b"
      },
      "execution_count": 15,
      "outputs": [
        {
          "output_type": "stream",
          "name": "stdout",
          "text": [
            "<class 'pandas.core.frame.DataFrame'>\n",
            "RangeIndex: 9446 entries, 0 to 9445\n",
            "Data columns (total 35 columns):\n",
            " #   Column                Non-Null Count  Dtype  \n",
            "---  ------                --------------  -----  \n",
            " 0   Track URI             9446 non-null   object \n",
            " 1   Track Name            9446 non-null   object \n",
            " 2   Artist URI(s)         9446 non-null   object \n",
            " 3   Artist Name(s)        9446 non-null   object \n",
            " 4   Album URI             9446 non-null   object \n",
            " 5   Album Name            9446 non-null   object \n",
            " 6   Album Artist URI(s)   9446 non-null   object \n",
            " 7   Album Artist Name(s)  9446 non-null   object \n",
            " 8   Album Release Date    9446 non-null   object \n",
            " 9   Album Image URL       9446 non-null   object \n",
            " 10  Disc Number           9446 non-null   int64  \n",
            " 11  Track Number          9446 non-null   int64  \n",
            " 12  Track Duration (ms)   9446 non-null   int64  \n",
            " 13  Track Preview URL     9397 non-null   object \n",
            " 14  Explicit              9446 non-null   bool   \n",
            " 15  Popularity            9446 non-null   int64  \n",
            " 16  ISRC                  9446 non-null   object \n",
            " 17  Added By              9446 non-null   object \n",
            " 18  Added At              9446 non-null   object \n",
            " 19  Artist Genres         9446 non-null   object \n",
            " 20  Danceability          9446 non-null   float64\n",
            " 21  Energy                9446 non-null   float64\n",
            " 22  Key                   9446 non-null   float64\n",
            " 23  Loudness              9446 non-null   float64\n",
            " 24  Mode                  9446 non-null   float64\n",
            " 25  Speechiness           9446 non-null   float64\n",
            " 26  Acousticness          9446 non-null   float64\n",
            " 27  Instrumentalness      9446 non-null   float64\n",
            " 28  Liveness              9446 non-null   float64\n",
            " 29  Valence               9446 non-null   float64\n",
            " 30  Tempo                 9446 non-null   float64\n",
            " 31  Time Signature        9446 non-null   float64\n",
            " 32  Album Genres          0 non-null      float64\n",
            " 33  Label                 9443 non-null   object \n",
            " 34  Copyrights            9429 non-null   object \n",
            "dtypes: bool(1), float64(13), int64(4), object(17)\n",
            "memory usage: 2.5+ MB\n"
          ]
        }
      ]
    },
    {
      "cell_type": "code",
      "source": [
        "# Ekstrak \"primary artist\" dari kolom 'Artist Name(s)'\n",
        "def get_primary_artist(artist_str):\n",
        "    if isinstance(artist_str, str) and artist_str.strip() != '':\n",
        "        return artist_str.split(',')[0].strip()\n",
        "    return ''\n",
        "\n",
        "# Ekstrak \"primary genre\" dari kolom 'Artist Genres'\n",
        "def get_primary_genre(genres):\n",
        "    if isinstance(genres, str) and genres.strip() != '':\n",
        "        return genres.split(',')[0].strip()\n",
        "    return ''\n",
        "\n",
        "# Terapkan ekstraksi pada DataFrame baru _df\n",
        "c_df = df.copy()\n",
        "c_df['Primary Artist'] = c_df['Artist Name(s)'].apply(get_primary_artist)\n",
        "c_df['Primary Genre'] = c_df['Artist Genres'].apply(get_primary_genre)\n",
        "\n",
        "# Buat ID unik untuk setiap track setelah cleaning\n",
        "df_clean = c_df.copy().reset_index(drop=True)\n",
        "df_clean['Track ID'] = df_clean.index"
      ],
      "metadata": {
        "id": "TytaqHvqGVuz"
      },
      "execution_count": 6,
      "outputs": []
    },
    {
      "cell_type": "code",
      "source": [
        "# Drop Duplikat Judul\n",
        "# Jika ada duplikat Track Name, simpan hanya entri dengan Popularitas tertinggi\n",
        "df_clean = df_clean.sort_values('Popularity', ascending=False).drop_duplicates(subset=['Track Name'])\n",
        "df_clean = df_clean.reset_index(drop=True)\n",
        "# Update Track ID setelah drop duplikat\n",
        "df_clean['Track ID'] = df_clean.index"
      ],
      "metadata": {
        "id": "QwPR31JzGhLD"
      },
      "execution_count": 7,
      "outputs": []
    },
    {
      "cell_type": "code",
      "source": [
        "df_clean.shape"
      ],
      "metadata": {
        "colab": {
          "base_uri": "https://localhost:8080/"
        },
        "id": "TBgLawM5TGEt",
        "outputId": "6b1d829e-196b-44d3-8a54-a28a228e31f0"
      },
      "execution_count": 14,
      "outputs": [
        {
          "output_type": "execute_result",
          "data": {
            "text/plain": [
              "(7813, 38)"
            ]
          },
          "metadata": {},
          "execution_count": 14
        }
      ]
    },
    {
      "cell_type": "markdown",
      "source": [
        "## Data Preparation"
      ],
      "metadata": {
        "id": "eX5_UFkjN6hG"
      }
    },
    {
      "cell_type": "markdown",
      "source": [
        "Normalisasi fitur audio dengan MinMaxScaler agar masing-masing berada di rentang 0-1. Proses kolom 'Artist Genres' menjadi vektor TF-IDF (maksimal 200 fitur) untuk menangkap informasi genre. Ubah matriks fitur audio menjadi format sparse untuk efisiensi. Gabungkan matriks audio (sparse) dan TF-IDF genre menjadi satu matriks fitur gabungan."
      ],
      "metadata": {
        "id": "Qyp5hTpoOXVs"
      }
    },
    {
      "cell_type": "code",
      "source": [
        "# Skala fitur audio dengan MinMaxScaler (0-1)\n",
        "scaler = MinMaxScaler()\n",
        "df_clean[audio_features] = scaler.fit_transform(df_clean[audio_features])\n",
        "\n",
        "# Buat TF-IDF untuk kolom 'Artist Genres'\n",
        "vectorizer = TfidfVectorizer(stop_words='english', max_features=200)  # batasi dimensi\n",
        "genre_tfidf = vectorizer.fit_transform(df_clean['Artist Genres'])  # sparse matrix shape=(n_songs, n_genre)\n",
        "\n",
        "# Ubah matriks fitur audio menjadi sparse\n",
        "audio_matrix = csr_matrix(df_clean[audio_features].values)\n",
        "\n",
        "# Gabungkan fitur audio + TF-IDF genre\n",
        "combined_features = hstack([audio_matrix, genre_tfidf])  # shape: (n_songs, n_audio + n_genre)"
      ],
      "metadata": {
        "id": "0gkQS60bGnAJ"
      },
      "execution_count": 8,
      "outputs": []
    },
    {
      "cell_type": "markdown",
      "source": [
        "### Hitung Similarity Matrix\n",
        "Hitung cosine similarity di antara semua baris (lagu) pada matriks fitur gabungan. Hasilnya adalah matriks sim_matrix berukuran (n_songs, n_songs)."
      ],
      "metadata": {
        "id": "ZaKbngQ2OJNT"
      }
    },
    {
      "cell_type": "code",
      "source": [
        "# Cosine similarity (sparse)\n",
        "sim_matrix = cosine_similarity(combined_features, dense_output=False)"
      ],
      "metadata": {
        "id": "IXG0g-YuKk9w"
      },
      "execution_count": 9,
      "outputs": []
    },
    {
      "cell_type": "markdown",
      "source": [
        "### Mapping untuk Rekomendasi\n",
        "- track_to_idx: mapping dari judul lagu ke Track ID (index)\n",
        "- idx_to_track: mapping dari Track ID ke judul lagu\n",
        "- idx_to_artist: mapping dari Track ID ke primary artist\n",
        "- idx_to_genre: mapping dari Track ID ke primary genre"
      ],
      "metadata": {
        "id": "vXNNZ9IwOl21"
      }
    },
    {
      "cell_type": "code",
      "source": [
        "# Mapping untuk Rekomendasi\n",
        "track_to_idx = pd.Series(df_clean['Track ID'].values, index=df_clean['Track Name']).to_dict()\n",
        "idx_to_track = pd.Series(df_clean['Track Name'].values, index=df_clean['Track ID']).to_dict()\n",
        "idx_to_artist = pd.Series(df_clean['Primary Artist'].values, index=df_clean['Track ID']).to_dict()\n",
        "idx_to_genre = pd.Series(df_clean['Primary Genre'].values, index=df_clean['Track ID']).to_dict()\n",
        "\n",
        "# Fungsi rekomendasi: diberikan judul track, k, kembalikan top k rekomendasi\n",
        "def recommend(track_name, top_k=10):\n",
        "    if track_name not in track_to_idx:\n",
        "        print(f\"Track '{track_name}' tidak ditemukan dalam dataset.\")\n",
        "        return []\n",
        "    idx = track_to_idx[track_name]\n",
        "    sim_scores = list(enumerate(sim_matrix[idx].toarray().ravel()))\n",
        "    sim_scores = sorted(sim_scores, key=lambda x: x[1], reverse=True)\n",
        "    recommendations = []\n",
        "    count = 0\n",
        "    for i, score in sim_scores:\n",
        "        if i == idx:\n",
        "            continue\n",
        "        recommendations.append((idx_to_track[i], idx_to_artist[i], idx_to_genre[i], score))\n",
        "        count += 1\n",
        "        if count >= top_k:\n",
        "            break\n",
        "    return recommendations\n",
        "\n",
        "# Uji rekomendasi\n",
        "example_track = df_clean['Track Name'].iloc[0]\n",
        "print(\"Track contoh:\", example_track)\n",
        "print(\"Rekomendasi 5 lagu mirip:\")\n",
        "for track, artist, genre, score in recommend(example_track, top_k=5):\n",
        "    print(f\"{track} - {artist} [{genre}] (score: {score:.4f})\")"
      ],
      "metadata": {
        "colab": {
          "base_uri": "https://localhost:8080/"
        },
        "id": "3PMPlErrGu35",
        "outputId": "362bdcd4-cd73-48ad-eb08-eb0989fbef7a"
      },
      "execution_count": 10,
      "outputs": [
        {
          "output_type": "stream",
          "name": "stdout",
          "text": [
            "Track contoh: Espresso\n",
            "Rekomendasi 5 lagu mirip:\n",
            "Misery - Maroon 5 [pop] (score: 0.9978)\n",
            "Up All Night - Khalid [pop] (score: 0.9965)\n",
            "Sweet but Psycho - Ava Max [pop] (score: 0.9959)\n",
            "One More Night - Maroon 5 [pop] (score: 0.9958)\n",
            "Teenage Dream - Katy Perry [pop] (score: 0.9958)\n"
          ]
        }
      ]
    },
    {
      "cell_type": "markdown",
      "source": [
        "## Evaluasi Model"
      ],
      "metadata": {
        "id": "6Nw81ZQqO7XV"
      }
    },
    {
      "cell_type": "code",
      "source": [
        "# Evaluasi (Precision@10, Recall@10, NDCG@10) Berdasarkan Primary Genre\n",
        "def precision_at_k(relevant, recommended, k):\n",
        "    recommended_k = recommended[:k]\n",
        "    if not recommended_k:\n",
        "        return 0.0\n",
        "    true_positives = sum([1 for r in recommended_k if r in relevant])\n",
        "    return true_positives / k\n",
        "\n",
        "\n",
        "def recall_at_k(relevant, recommended, k):\n",
        "    recommended_k = recommended[:k]\n",
        "    if not relevant:\n",
        "        return 0.0\n",
        "    true_positives = sum([1 for r in recommended_k if r in relevant])\n",
        "    return true_positives / len(relevant)\n",
        "\n",
        "\n",
        "def ndcg_at_k(relevant, recommended, k):\n",
        "    dcg = 0.0\n",
        "    for i, rec in enumerate(recommended[:k]):\n",
        "        if rec in relevant:\n",
        "            dcg += 1 / math.log2(i + 2)\n",
        "    ideal_rels = min(len(relevant), k)\n",
        "    idcg = sum([1 / math.log2(i + 2) for i in range(ideal_rels)])\n",
        "    return dcg / idcg if idcg > 0 else 0.0"
      ],
      "metadata": {
        "id": "2fhiIjdlGu7Y"
      },
      "execution_count": 11,
      "outputs": []
    },
    {
      "cell_type": "code",
      "source": [
        "# sampel query untuk evaluasi (100 track random)\n",
        "random.seed(42)\n",
        "sample_indices = random.sample(list(df_clean['Track ID']), 100)\n",
        "eval_results = []\n",
        "K = 10\n",
        "\n",
        "for q_idx in sample_indices:\n",
        "    # Tentukan relevant sebagai set lagu dengan Primary Genre sama (kecuali diri sendiri)\n",
        "    query_genre = idx_to_genre[q_idx]\n",
        "    relevant_tracks = set(\n",
        "        df_clean.loc[\n",
        "            (df_clean['Primary Genre'] == query_genre) & (df_clean['Track ID'] != q_idx),\n",
        "            'Track Name'\n",
        "        ].values\n",
        "    )\n",
        "    query_track = idx_to_track[q_idx]\n",
        "    recs = [name for name, artist, genre, _ in recommend(query_track, top_k=K)]\n",
        "    prec = precision_at_k(relevant_tracks, recs, K)\n",
        "    rec_score = recall_at_k(relevant_tracks, recs, K)\n",
        "    ndcg = ndcg_at_k(relevant_tracks, recs, K)\n",
        "    eval_results.append((prec, rec_score, ndcg))\n",
        "\n",
        "# Hitung rata-rata metrik\n",
        "eval_df = pd.DataFrame(eval_results, columns=['Precision@10', 'Recall@10', 'NDCG@10'])\n",
        "print(\"\\nHasil Evaluasi Rata-Rata:\")\n",
        "print(eval_df.mean())"
      ],
      "metadata": {
        "colab": {
          "base_uri": "https://localhost:8080/"
        },
        "id": "m2Qv0WdAK8q_",
        "outputId": "54b369f3-f318-478f-f3d8-2990b4b63125"
      },
      "execution_count": 12,
      "outputs": [
        {
          "output_type": "stream",
          "name": "stdout",
          "text": [
            "\n",
            "Hasil Evaluasi Rata-Rata:\n",
            "Precision@10    0.702000\n",
            "Recall@10       0.138689\n",
            "NDCG@10         0.752749\n",
            "dtype: float64\n"
          ]
        }
      ]
    },
    {
      "cell_type": "markdown",
      "source": [
        "Nilai Precision@10 dan NDCG@10 menunjukkan sistem sudah mampu memilih dan meranking lagu‐lagu yang satu genre dengan input. Itu berarti sudah baik untuk content‐based filtering di skala 10.000 lagu. Recall yang lebih rendah dapat dipahami karena jumlah lagu dalam satu genre sangat banyak, sementara rekomendasi dibatasi 10 entri saja."
      ],
      "metadata": {
        "id": "UeeJ7QhSMH_2"
      }
    },
    {
      "cell_type": "code",
      "source": [
        "# Rekomendasi 10 Lagu\n",
        "query = input(\"Masukkan judul lagu (Track Name): \")\n",
        "results = recommend(query, top_k=10)\n",
        "if results:\n",
        "    print(f\"\\nRekomendasi 10 lagu mirip dengan '{query}':\")\n",
        "    for i, (track, artist, genre, score) in enumerate(results, start=1):\n",
        "        print(f\"{i}. {track} - {artist} [{genre}] (similarity: {score:.4f})\")"
      ],
      "metadata": {
        "colab": {
          "base_uri": "https://localhost:8080/"
        },
        "id": "XL24dXZvHfxS",
        "outputId": "c6375748-a6b0-4ac9-f86d-66132c2e7913"
      },
      "execution_count": 13,
      "outputs": [
        {
          "output_type": "stream",
          "name": "stdout",
          "text": [
            "Masukkan judul lagu (Track Name): Faded\n",
            "\n",
            "Rekomendasi 10 lagu mirip dengan 'Faded':\n",
            "1. Million Voices - Radio Edit - Otto Knows [edm] (similarity: 0.9287)\n",
            "2. Satisfaction - Uk Radio Edit - Benny Benassi [dutch house] (similarity: 0.9168)\n",
            "3. Summertime Sadness (Lana Del Rey Vs. Cedric Gervais) - Cedric Gervais Remix - Lana Del Rey [art pop] (similarity: 0.9066)\n",
            "4. Something New - Axwell /\\ Ingrosso [edm] (similarity: 0.8986)\n",
            "5. Hurricane - Radio Edit - Dzeko & Torres [dutch house] (similarity: 0.8945)\n",
            "6. Young And Beautiful [Lana Del Rey vs. Cedric Gervais] - Cedric Gervais Remix Radio Edit - Lana Del Rey [art pop] (similarity: 0.8913)\n",
            "7. Tsunami (Jump) - Radio Edit - DVBBS [canadian electronic] (similarity: 0.8898)\n",
            "8. Tsunami (Jump) [feat. Tinie Tempah] - DVBBS [canadian electronic] (similarity: 0.8898)\n",
            "9. Legacy - Radio Edit - Nicky Romero [big room] (similarity: 0.8886)\n",
            "10. You’ll Be Mine - Havana Brown [australian dance] (similarity: 0.8848)\n"
          ]
        }
      ]
    }
  ]
}